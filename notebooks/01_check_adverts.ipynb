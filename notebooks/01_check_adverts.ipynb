{
 "cells": [
  {
   "cell_type": "markdown",
   "id": "87f9c16f",
   "metadata": {},
   "source": [
    "# 01 — Check Job Adverts for Age‑Coded Terms\n",
    "Use this notebook to load a CSV of adverts and flag phrases from `data/lexicon.csv`.\n",
    "\n",
    "## How to use\n",
    "1. Put your adverts in a CSV with columns: `advert_id`, `text` (see `data/adverts_sample.csv`).\n",
    "2. Make sure `data/lexicon.csv` exists (one column with terms or a header named `term`).\n",
    "3. Run the cells to see flagged phrases per advert."
   ]
  },
  {
   "cell_type": "code",
   "execution_count": null,
   "id": "d31927cb",
   "metadata": {},
   "outputs": [],
   "source": [
    "import pandas as pd\n",
    "import re\n",
    "from pathlib import Path\n",
    "\n",
    "LEXICON_PATH = Path('data/lexicon.csv')  # update if needed\n",
    "ADVERTS_PATH = Path('data/adverts_sample.csv')  # update if using your own file\n",
    "\n",
    "lex = pd.read_csv(LEXICON_PATH)\n",
    "lex.columns = [c.strip().lower() for c in lex.columns]\n",
    "term_col = 'term' if 'term' in lex.columns else lex.columns[0]\n",
    "terms = [str(t).strip() for t in lex[term_col].dropna().unique() if str(t).strip()]\n",
    "print(f'Loaded {len(terms)} terms from {LEXICON_PATH}')\n",
    "\n",
    "ads = pd.read_csv(ADVERTS_PATH)\n",
    "print(f'Loaded {len(ads)} adverts from {ADVERTS_PATH}')\n",
    "\n",
    "def find_terms(text, terms):\n",
    "    hits = []\n",
    "    for t in terms:\n",
    "        pattern = re.compile(r'\\b' + re.escape(t) + r'\\b', flags=re.IGNORECASE)\n",
    "        if pattern.search(str(text)):\n",
    "            hits.append(t)\n",
    "    return hits\n",
    "\n",
    "results = (\n",
    "    ads.assign(flagged=lambda df: df['text'].apply(lambda x: find_terms(x, terms)))\n",
    ")\n",
    "results"
   ]
  }
 ],
 "metadata": {},
 "nbformat": 4,
 "nbformat_minor": 5
}
