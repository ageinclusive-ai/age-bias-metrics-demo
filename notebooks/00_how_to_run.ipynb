{
 "cells": [
  {
   "cell_type": "markdown",
   "id": "734b7688",
   "metadata": {},
   "source": [
    "# 00 — How to Run This Project\n",
    "This quick guide shows two ways to run things:\n",
    "\n",
    "1. **From notebooks** (recommended): import and call functions.\n",
    "2. **From scripts** (optional): run helper scripts from Python.\n"
   ]
  },
  {
   "cell_type": "markdown",
   "id": "d96d0d85",
   "metadata": {},
   "source": [
    "## 1) Use functions from `src/age_inclusive_ai/`\n",
    "In your other notebooks, you can import your helpers once they're in `src/age_inclusive_ai/`.\n",
    "If imports fail in some environments, add the repo root to `sys.path` as shown."
   ]
  },
  {
   "cell_type": "code",
   "execution_count": null,
   "id": "2fbdc519",
   "metadata": {},
   "outputs": [],
   "source": [
    "import sys, os\n",
    "from pathlib import Path\n",
    "\n",
    "# Ensure we can import from src/age_inclusive_ai\n",
    "repo_root = Path.cwd()\n",
    "src_path = repo_root / 'src'\n",
    "if str(src_path) not in sys.path:\n",
    "    sys.path.insert(0, str(src_path))\n",
    "\n",
    "try:\n",
    "    from age_inclusive_ai import __init__  # noqa: F401\n",
    "    print('Import OK: age_inclusive_ai package found')\n",
    "except Exception as e:\n",
    "    print('Import failed — check that src/age_inclusive_ai exists. Error:', e)\n"
   ]
  },
  {
   "cell_type": "markdown",
   "id": "1428fea8",
   "metadata": {},
   "source": [
    "## 2) Run helper scripts from a notebook (optional)\n",
    "You can call your Python scripts (e.g., `app.py`, `batch_runner.py`) via `subprocess`.\n",
    "Windows `.bat` launchers can be run with `shell=True`."
   ]
  },
  {
   "cell_type": "code",
   "execution_count": null,
   "id": "c9fea562",
   "metadata": {},
   "outputs": [],
   "source": [
    "import subprocess, sys\n",
    "def run_py(script, *args):\n",
    "    cmd = [sys.executable, script, *map(str, args)]\n",
    "    print('Running:', ' '.join(cmd))\n",
    "    out = subprocess.run(cmd, capture_output=True, text=True)\n",
    "    print(out.stdout)\n",
    "    if out.returncode != 0:\n",
    "        print(out.stderr)\n",
    "    return out.returncode\n",
    "\n",
    "# Example usage (uncomment when script exists):\n",
    "# run_py('src/age_inclusive_ai/app.py', '--help')\n"
   ]
  },
  {
   "cell_type": "markdown",
   "id": "047e4842",
   "metadata": {},
   "source": [
    "### Run Windows batch files (if you use them)\n",
    "This only works on Windows. Replace the path with your actual `.bat` file."
   ]
  },
  {
   "cell_type": "code",
   "execution_count": null,
   "id": "d34d9ae6",
   "metadata": {},
   "outputs": [],
   "source": [
    "import os, subprocess\n",
    "bat = 'scripts/windows/run.bat'  # change if needed\n",
    "if os.name == 'nt' and Path(bat).exists():\n",
    "    print('Running:', bat)\n",
    "    subprocess.run(bat, shell=True)\n",
    "else:\n",
    "    print('On Windows, this will run your .bat file; on other systems, skip this cell.')\n"
   ]
  },
  {
   "cell_type": "markdown",
   "id": "ee6144f0",
   "metadata": {},
   "source": [
    "## 3) Quick sanity checks\n",
    "- `data/lexicon.csv` should exist.\n",
    "- Try opening `01_check_adverts.ipynb` next to run the analysis."
   ]
  }
 ],
 "metadata": {},
 "nbformat": 4,
 "nbformat_minor": 5
}
